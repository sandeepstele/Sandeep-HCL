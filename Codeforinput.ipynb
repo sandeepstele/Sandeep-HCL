{
  "nbformat": 4,
  "nbformat_minor": 0,
  "metadata": {
    "colab": {
      "provenance": [],
      "gpuType": "T4"
    },
    "kernelspec": {
      "name": "python3",
      "display_name": "Python 3"
    },
    "language_info": {
      "name": "python"
    }
  },
  "cells": [
    {
      "cell_type": "markdown",
      "source": [
        "This is the Python notebook for generation of datasets."
      ],
      "metadata": {
        "id": "HATj6vXfZ4Is"
      }
    },
    {
      "cell_type": "code",
      "source": [
        "!pip install faker"
      ],
      "metadata": {
        "colab": {
          "base_uri": "https://localhost:8080/"
        },
        "id": "XCvNHpjAajlk",
        "outputId": "8c5777bd-22a4-4029-efda-481003b8eeaa"
      },
      "execution_count": null,
      "outputs": [
        {
          "output_type": "stream",
          "name": "stdout",
          "text": [
            "Collecting faker\n",
            "  Downloading Faker-18.11.2-py3-none-any.whl (1.7 MB)\n",
            "\u001b[?25l     \u001b[90m━━━━━━━━━━━━━━━━━━━━━━━━━━━━━━━━━━━━━━━━\u001b[0m \u001b[32m0.0/1.7 MB\u001b[0m \u001b[31m?\u001b[0m eta \u001b[36m-:--:--\u001b[0m\r\u001b[2K     \u001b[91m━━━━━\u001b[0m\u001b[91m╸\u001b[0m\u001b[90m━━━━━━━━━━━━━━━━━━━━━━━━━━━━━━━━━━\u001b[0m \u001b[32m0.2/1.7 MB\u001b[0m \u001b[31m7.4 MB/s\u001b[0m eta \u001b[36m0:00:01\u001b[0m\r\u001b[2K     \u001b[91m━━━━━━━━━━━━━━━━━━━━━━━━━━━━━━━━━━━━━\u001b[0m\u001b[90m╺\u001b[0m\u001b[90m━━\u001b[0m \u001b[32m1.6/1.7 MB\u001b[0m \u001b[31m23.0 MB/s\u001b[0m eta \u001b[36m0:00:01\u001b[0m\r\u001b[2K     \u001b[90m━━━━━━━━━━━━━━━━━━━━━━━━━━━━━━━━━━━━━━━━\u001b[0m \u001b[32m1.7/1.7 MB\u001b[0m \u001b[31m18.3 MB/s\u001b[0m eta \u001b[36m0:00:00\u001b[0m\n",
            "\u001b[?25hRequirement already satisfied: python-dateutil>=2.4 in /usr/local/lib/python3.10/dist-packages (from faker) (2.8.2)\n",
            "Requirement already satisfied: six>=1.5 in /usr/local/lib/python3.10/dist-packages (from python-dateutil>=2.4->faker) (1.16.0)\n",
            "Installing collected packages: faker\n",
            "Successfully installed faker-18.11.2\n"
          ]
        }
      ]
    },
    {
      "cell_type": "code",
      "source": [
        "import uuid\n",
        "import csv\n",
        "from faker import Faker\n",
        "from random import choice\n",
        "fake = Faker()\n",
        "expertList = [\n",
        "    \"Novice\",\n",
        "    \"Beginner\",\n",
        "    \"Intermediate\",\n",
        "    \"Expert\"\n",
        "]\n",
        "rlist=[\n",
        "  \"Ilottery\",\n",
        "  \"Product\",\n",
        "  \"Americas\",\n",
        "  \"International\",\n",
        "  \"Casino\"\n",
        "]\n",
        "ylist=[\n",
        "  \"0 to 3 years\",\n",
        "  \"4 to 8 years\",\n",
        "  \"4 to 8 years\",\n",
        "  \"16years and above\"\n",
        "\n",
        "]\n",
        "tlist=[\n",
        "  \"Java/J2EE\",\n",
        "  \" Testing\",\n",
        " \"Automation\"\n",
        " \".NET/C#\"\n",
        " \"C++\"\n",
        "\n",
        "]\n",
        "dataset = []\n",
        "generated_ids = set()\n",
        "generated_names = set()\n",
        "generated_addresses = set()\n",
        "\n",
        "while len(dataset) < 1000000:\n",
        "    name = fake.name()\n",
        "    address = fake.address()\n",
        "    id = str(uuid.uuid4())\n",
        "\n",
        "    if id not in generated_ids and name not in generated_names and address not in generated_addresses:\n",
        "        dataset.append({\"Name\": name,\n",
        "                        \"Address\": address,\n",
        "                        \"ID\": id,\n",
        "                        \"Skill\":choice(expertList),\n",
        "                        \"region\":choice(rlist),\n",
        "                        \"year\":choice(ylist),\n",
        "                        \"technology\":choice(tlist)\n",
        "                       })\n",
        "        generated_ids.add(id)\n",
        "        generated_names.add(name)\n",
        "        generated_addresses.add(address)\n",
        "filename = 'data.csv'\n",
        "\n",
        "with open(filename, 'w', newline='') as file:\n",
        "    writer = csv.DictWriter(file, fieldnames=dataset[0].keys())\n",
        "    writer.writeheader()\n",
        "    writer.writerows(dataset)\n",
        "\n",
        "print(f'{filename} created successfully.')\n",
        "from google.colab import files\n",
        "files.download(\"data.csv\")\n",
        "\n",
        "\n",
        "\n"
      ],
      "metadata": {
        "colab": {
          "base_uri": "https://localhost:8080/"
        },
        "id": "x98F_j7cfBiI",
        "outputId": "42b3072d-e4a1-4d39-8fea-5ed3d3c871d3"
      },
      "execution_count": null,
      "outputs": [
        {
          "output_type": "stream",
          "name": "stdout",
          "text": [
            "data.csv created successfully.\n"
          ]
        },
        {
          "output_type": "display_data",
          "data": {
            "text/plain": [
              "<IPython.core.display.Javascript object>"
            ],
            "application/javascript": [
              "\n",
              "    async function download(id, filename, size) {\n",
              "      if (!google.colab.kernel.accessAllowed) {\n",
              "        return;\n",
              "      }\n",
              "      const div = document.createElement('div');\n",
              "      const label = document.createElement('label');\n",
              "      label.textContent = `Downloading \"${filename}\": `;\n",
              "      div.appendChild(label);\n",
              "      const progress = document.createElement('progress');\n",
              "      progress.max = size;\n",
              "      div.appendChild(progress);\n",
              "      document.body.appendChild(div);\n",
              "\n",
              "      const buffers = [];\n",
              "      let downloaded = 0;\n",
              "\n",
              "      const channel = await google.colab.kernel.comms.open(id);\n",
              "      // Send a message to notify the kernel that we're ready.\n",
              "      channel.send({})\n",
              "\n",
              "      for await (const message of channel.messages) {\n",
              "        // Send a message to notify the kernel that we're ready.\n",
              "        channel.send({})\n",
              "        if (message.buffers) {\n",
              "          for (const buffer of message.buffers) {\n",
              "            buffers.push(buffer);\n",
              "            downloaded += buffer.byteLength;\n",
              "            progress.value = downloaded;\n",
              "          }\n",
              "        }\n",
              "      }\n",
              "      const blob = new Blob(buffers, {type: 'application/binary'});\n",
              "      const a = document.createElement('a');\n",
              "      a.href = window.URL.createObjectURL(blob);\n",
              "      a.download = filename;\n",
              "      div.appendChild(a);\n",
              "      a.click();\n",
              "      div.remove();\n",
              "    }\n",
              "  "
            ]
          },
          "metadata": {}
        },
        {
          "output_type": "display_data",
          "data": {
            "text/plain": [
              "<IPython.core.display.Javascript object>"
            ],
            "application/javascript": [
              "download(\"download_0ca62a60-c48f-4f95-a4fe-fc554aa89645\", \"data.csv\", 146371796)"
            ]
          },
          "metadata": {}
        }
      ]
    },
    {
      "cell_type": "code",
      "source": [],
      "metadata": {
        "id": "6YCaYkhCmew-"
      },
      "execution_count": null,
      "outputs": []
    }
  ]
}